{
  "nbformat": 4,
  "nbformat_minor": 0,
  "metadata": {
    "colab": {
      "name": "housing_linearregression_service.ipynb",
      "provenance": [],
      "authorship_tag": "ABX9TyMGvuciEAaLk3w4UtMXf5YV",
      "include_colab_link": true
    },
    "kernelspec": {
      "name": "python3",
      "display_name": "Python 3"
    },
    "language_info": {
      "name": "python"
    }
  },
  "cells": [
    {
      "cell_type": "markdown",
      "metadata": {
        "id": "view-in-github",
        "colab_type": "text"
      },
      "source": [
        "<a href=\"https://colab.research.google.com/github/creamcheesesteak/test_visualization/blob/master/housing_linearregression_service.ipynb\" target=\"_parent\"><img src=\"https://colab.research.google.com/assets/colab-badge.svg\" alt=\"Open In Colab\"/></a>"
      ]
    },
    {
      "cell_type": "code",
      "metadata": {
        "colab": {
          "base_uri": "https://localhost:8080/"
        },
        "id": "XO26PzMfV0Dn",
        "outputId": "d9bb7c18-ffcc-42f5-e35b-ee202e76c9ca"
      },
      "source": [
        "!ls -l ./housing_lr.pkl"
      ],
      "execution_count": 7,
      "outputs": [
        {
          "output_type": "stream",
          "text": [
            "-rw-r--r-- 1 root root 663 Jul  6 05:50 ./housing_lr.pkl\n"
          ],
          "name": "stdout"
        }
      ]
    },
    {
      "cell_type": "code",
      "metadata": {
        "id": "EO62inv0V2XL"
      },
      "source": [
        "import pickle"
      ],
      "execution_count": 8,
      "outputs": []
    },
    {
      "cell_type": "code",
      "metadata": {
        "colab": {
          "base_uri": "https://localhost:8080/"
        },
        "id": "TqwHk7s1V2cD",
        "outputId": "298e5b88-9b6d-4175-b0ee-d5802f0badb6"
      },
      "source": [
        "pickle.load(open('./housing_lr.pkl', 'rb'))"
      ],
      "execution_count": 9,
      "outputs": [
        {
          "output_type": "execute_result",
          "data": {
            "text/plain": [
              "LinearRegression(copy_X=True, fit_intercept=True, n_jobs=None, normalize=False)"
            ]
          },
          "metadata": {
            "tags": []
          },
          "execution_count": 9
        }
      ]
    },
    {
      "cell_type": "code",
      "metadata": {
        "colab": {
          "base_uri": "https://localhost:8080/"
        },
        "id": "k3pq42FFV2i1",
        "outputId": "b8f09ec7-4077-48cd-9204-8c4719083783"
      },
      "source": [
        "lr = pickle.load(open('./housing_lr.pkl', 'rb'))\n",
        "type(lr)"
      ],
      "execution_count": 10,
      "outputs": [
        {
          "output_type": "execute_result",
          "data": {
            "text/plain": [
              "sklearn.linear_model._base.LinearRegression"
            ]
          },
          "metadata": {
            "tags": []
          },
          "execution_count": 10
        }
      ]
    },
    {
      "cell_type": "code",
      "metadata": {
        "id": "SPMObCxfV2rF"
      },
      "source": [
        "# Virtual data input\n",
        "# X_continues = df[['INDUS', 'NOX', 'RM', 'AGE', 'DIS', 'TAX', 'PTRATIO', 'BK', 'LSTAT', 'MEDV']] 10개\n",
        "INDUS = 7.58\n",
        "NOX = 0.579\n",
        "RM = 6.572\n",
        "AGE = 57.1\n",
        "DIS = 5.5321\n",
        "TAX = 298\n",
        "PTRATIO = 13.4\n",
        "BK = 397.2\n",
        "LSTAT = 23.12\n",
        "MEDV = 17\n",
        "X_customer = [[INDUS, NOX, RM, AGE, DIS, TAX, PTRATIO, BK, LSTAT, MEDV]]\n",
        "#  [[7.58, 0.579, 6.572, 57.1, 5.5321, 298, 13.4, 397.2, 23.12, 17]]"
      ],
      "execution_count": 18,
      "outputs": []
    },
    {
      "cell_type": "code",
      "metadata": {
        "colab": {
          "base_uri": "https://localhost:8080/"
        },
        "id": "KRhN5kGMdMwf",
        "outputId": "a88c148f-a5e7-493b-955d-27114378dcac"
      },
      "source": [
        "pickle.load(open('./housing_standardscaler.pkl', 'rb'))"
      ],
      "execution_count": 15,
      "outputs": [
        {
          "output_type": "execute_result",
          "data": {
            "text/plain": [
              "StandardScaler(copy=True, with_mean=True, with_std=True)"
            ]
          },
          "metadata": {
            "tags": []
          },
          "execution_count": 15
        }
      ]
    },
    {
      "cell_type": "code",
      "metadata": {
        "id": "9tf6xq0hdc1D"
      },
      "source": [
        "scaler = pickle.load(open('./housing_standardscaler.pkl', 'rb'))"
      ],
      "execution_count": 16,
      "outputs": []
    },
    {
      "cell_type": "code",
      "metadata": {
        "colab": {
          "base_uri": "https://localhost:8080/"
        },
        "id": "H9HenOP3V2x2",
        "outputId": "671a64b9-80b1-4011-ee37-0715f3d1b11d"
      },
      "source": [
        "scaler.transform(X_customer)"
      ],
      "execution_count": 19,
      "outputs": [
        {
          "output_type": "execute_result",
          "data": {
            "text/plain": [
              "array([[-0.51896725,  0.2099541 ,  0.40939791, -0.40805405,  0.82574344,\n",
              "        -0.65472964, -2.33748912,  0.44434124,  1.46719013, -0.60217668]])"
            ]
          },
          "metadata": {
            "tags": []
          },
          "execution_count": 19
        }
      ]
    },
    {
      "cell_type": "code",
      "metadata": {
        "id": "lGVi50qEdkl0"
      },
      "source": [
        "X_customer = scaler.transform(X_customer)"
      ],
      "execution_count": 21,
      "outputs": []
    },
    {
      "cell_type": "code",
      "metadata": {
        "colab": {
          "base_uri": "https://localhost:8080/"
        },
        "id": "dNzUr1mZV27u",
        "outputId": "c1790258-a5a3-46c0-aa58-f8c07144a057"
      },
      "source": [
        "lr.predict(X_customer)"
      ],
      "execution_count": 24,
      "outputs": [
        {
          "output_type": "execute_result",
          "data": {
            "text/plain": [
              "array([3.3413489])"
            ]
          },
          "metadata": {
            "tags": []
          },
          "execution_count": 24
        }
      ]
    },
    {
      "cell_type": "code",
      "metadata": {
        "colab": {
          "base_uri": "https://localhost:8080/"
        },
        "id": "HWrF75FqV3HN",
        "outputId": "13280055-8f85-4e8f-8a3e-2f992b57f364"
      },
      "source": [
        "result = lr.predict(X_customer)\n",
        "result"
      ],
      "execution_count": 26,
      "outputs": [
        {
          "output_type": "execute_result",
          "data": {
            "text/plain": [
              "array([3.3413489])"
            ]
          },
          "metadata": {
            "tags": []
          },
          "execution_count": 26
        }
      ]
    },
    {
      "cell_type": "code",
      "metadata": {
        "colab": {
          "base_uri": "https://localhost:8080/"
        },
        "id": "IQfhK90bV3Nd",
        "outputId": "8ac61645-fe32-466e-ae9e-1b27f3676668"
      },
      "source": [
        "result[0]"
      ],
      "execution_count": 27,
      "outputs": [
        {
          "output_type": "execute_result",
          "data": {
            "text/plain": [
              "3.341348901304168"
            ]
          },
          "metadata": {
            "tags": []
          },
          "execution_count": 27
        }
      ]
    },
    {
      "cell_type": "code",
      "metadata": {
        "id": "3Jws6srRV3VQ"
      },
      "source": [
        ""
      ],
      "execution_count": 11,
      "outputs": []
    },
    {
      "cell_type": "code",
      "metadata": {
        "id": "bBp5SIj4V3c6"
      },
      "source": [
        ""
      ],
      "execution_count": 11,
      "outputs": []
    },
    {
      "cell_type": "code",
      "metadata": {
        "id": "_SbVj_HsV3hY"
      },
      "source": [
        ""
      ],
      "execution_count": 11,
      "outputs": []
    },
    {
      "cell_type": "code",
      "metadata": {
        "id": "-qR9yV28V3k2"
      },
      "source": [
        ""
      ],
      "execution_count": 11,
      "outputs": []
    },
    {
      "cell_type": "code",
      "metadata": {
        "id": "wH5YipGSV3oy"
      },
      "source": [
        ""
      ],
      "execution_count": 11,
      "outputs": []
    }
  ]
}