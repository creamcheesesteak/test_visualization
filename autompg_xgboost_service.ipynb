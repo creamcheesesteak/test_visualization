{
  "nbformat": 4,
  "nbformat_minor": 0,
  "metadata": {
    "colab": {
      "name": "autompg_xgboost_service.ipynb",
      "provenance": [],
      "authorship_tag": "ABX9TyNq+mV2BD9dbaFm0DY5fpOS",
      "include_colab_link": true
    },
    "kernelspec": {
      "name": "python3",
      "display_name": "Python 3"
    },
    "language_info": {
      "name": "python"
    }
  },
  "cells": [
    {
      "cell_type": "markdown",
      "metadata": {
        "id": "view-in-github",
        "colab_type": "text"
      },
      "source": [
        "<a href=\"https://colab.research.google.com/github/creamcheesesteak/test_visualization/blob/master/autompg_xgboost_service.ipynb\" target=\"_parent\"><img src=\"https://colab.research.google.com/assets/colab-badge.svg\" alt=\"Open In Colab\"/></a>"
      ]
    },
    {
      "cell_type": "markdown",
      "metadata": {
        "id": "eNt47XfVnflL"
      },
      "source": [
        "# load pickle with xgboost and scaler"
      ]
    },
    {
      "cell_type": "code",
      "metadata": {
        "id": "1G1wUJN4mqeE"
      },
      "source": [
        "import pickle"
      ],
      "execution_count": 38,
      "outputs": []
    },
    {
      "cell_type": "code",
      "metadata": {
        "colab": {
          "base_uri": "https://localhost:8080/"
        },
        "id": "rch0Q-Bumqvl",
        "outputId": "f393f11d-7f52-4b0c-b5cd-a1b31da13547"
      },
      "source": [
        "pickle.load(open('./xgb_model.pkl', 'rb'))\n",
        "# 바이너리 파일은 rb 옵션을 넣어줘야함"
      ],
      "execution_count": 39,
      "outputs": [
        {
          "output_type": "stream",
          "text": [
            "[04:47:24] WARNING: /workspace/src/objective/regression_obj.cu:152: reg:linear is now deprecated in favor of reg:squarederror.\n"
          ],
          "name": "stdout"
        },
        {
          "output_type": "execute_result",
          "data": {
            "text/plain": [
              "XGBRegressor(base_score=0.5, booster='gbtree', colsample_bylevel=1,\n",
              "             colsample_bynode=1, colsample_bytree=1, gamma=0,\n",
              "             importance_type='gain', learning_rate=0.1, max_delta_step=0,\n",
              "             max_depth=3, min_child_weight=1, missing=nan, n_estimators=100,\n",
              "             n_jobs=1, nthread=None, objective='reg:linear', random_state=0,\n",
              "             reg_alpha=0, reg_lambda=1, scale_pos_weight=1, seed=None,\n",
              "             silent=None, subsample=1, verbosity=1)"
            ]
          },
          "metadata": {
            "tags": []
          },
          "execution_count": 39
        }
      ]
    },
    {
      "cell_type": "code",
      "metadata": {
        "colab": {
          "base_uri": "https://localhost:8080/"
        },
        "id": "Q_DDf_oGmrA9",
        "outputId": "23301f7e-fccf-4d1f-fb13-f060af3b483a"
      },
      "source": [
        "lr = pickle.load(open('./scaler_xgb.pkl', 'rb'))\n",
        "type(lr)"
      ],
      "execution_count": 40,
      "outputs": [
        {
          "output_type": "execute_result",
          "data": {
            "text/plain": [
              "sklearn.preprocessing._data.StandardScaler"
            ]
          },
          "metadata": {
            "tags": []
          },
          "execution_count": 40
        }
      ]
    },
    {
      "cell_type": "code",
      "metadata": {
        "id": "1pJTSVapmrTH"
      },
      "source": [
        "# df.head()"
      ],
      "execution_count": 41,
      "outputs": []
    },
    {
      "cell_type": "code",
      "metadata": {
        "colab": {
          "base_uri": "https://localhost:8080/"
        },
        "id": "WM72uOA6mrqv",
        "outputId": "ce30d8e4-bee7-4f19-8a3d-8b89e35ceea0"
      },
      "source": [
        "scaler = pickle.load(open('./autompg_standardscaler.pkl', 'rb'))\n",
        "type(scaler)"
      ],
      "execution_count": 42,
      "outputs": [
        {
          "output_type": "execute_result",
          "data": {
            "text/plain": [
              "sklearn.preprocessing._data.StandardScaler"
            ]
          },
          "metadata": {
            "tags": []
          },
          "execution_count": 42
        }
      ]
    },
    {
      "cell_type": "markdown",
      "metadata": {
        "id": "XujVRSlN_5sK"
      },
      "source": [
        "# predict with linear regression"
      ]
    },
    {
      "cell_type": "code",
      "metadata": {
        "id": "9aM7Fa2Lmr-z"
      },
      "source": [
        "# input을 받음\n",
        "displacement = 307.0\n",
        "horsepower = 130.0\n",
        "weight = 3504.0\n",
        "accel = 12.0\n",
        "cylinder = 8\n",
        "origin = 1\n",
        "\n",
        "if cylinders == 3:\n",
        "  cylinder = [1,0,0,0,0]\n",
        "elif cylinders == 4:\n",
        "  cylinder = [0,1,0,0,0,]\n",
        "elif cylinders == 5:\n",
        "  cylinder = [0,0,1,0,0,]\n",
        "elif cylinders == 6:\n",
        "  cylinder = [0,0,0,1,0,]\n",
        "elif cylinders == 8:\n",
        "  cylinder = [0,0,0,0,1,]\n",
        "\n",
        "\n",
        "if origin == 1:\n",
        "  org = [1,0,0]\n",
        "elif origin == 2:\n",
        "  org = [0,1,0]\n",
        "elif origin == 3:\n",
        "  org = [0,0,1]\n",
        "\n",
        "x_customer = [[displacement, horsepower, weight, accel, cylinder, origin]]\n",
        "# [[307.0, 130.0, 3504.0, 12.0, 8, 1]] -> predit에게 보냄 -> 결과 값을 output\n",
        "\n",
        "# [[307.0, 130.0, 3504.0, 12.0, {0,0,0,0,1}, {1,0,0}]]\n",
        "\n",
        "# [[307.0, 130.0, 3504.0, 12.0, 0,0,0,0,1, 1,0,0]]\n",
        "\n",
        "\n",
        "\n"
      ],
      "execution_count": 57,
      "outputs": []
    },
    {
      "cell_type": "code",
      "metadata": {
        "id": "A9EYC72VVwTa"
      },
      "source": [
        "scaler.transform(x_customer)"
      ],
      "execution_count": null,
      "outputs": []
    },
    {
      "cell_type": "code",
      "metadata": {
        "colab": {
          "base_uri": "https://localhost:8080/",
          "height": 284
        },
        "id": "aemBnhT3CAZ9",
        "outputId": "55c11ebd-f051-40ce-e480-914bc9d3050e"
      },
      "source": [
        "scaler.transform([[307.0, 130.0, 3504.0, 12.0, 0,0,0,0,1, 1,0,0]])"
      ],
      "execution_count": 59,
      "outputs": [
        {
          "output_type": "error",
          "ename": "ValueError",
          "evalue": "ignored",
          "traceback": [
            "\u001b[0;31m---------------------------------------------------------------------------\u001b[0m",
            "\u001b[0;31mValueError\u001b[0m                                Traceback (most recent call last)",
            "\u001b[0;32m<ipython-input-59-23dc0b05ae3d>\u001b[0m in \u001b[0;36m<module>\u001b[0;34m()\u001b[0m\n\u001b[0;32m----> 1\u001b[0;31m \u001b[0mscaler\u001b[0m\u001b[0;34m.\u001b[0m\u001b[0mtransform\u001b[0m\u001b[0;34m(\u001b[0m\u001b[0;34m[\u001b[0m\u001b[0;34m[\u001b[0m\u001b[0;36m307.0\u001b[0m\u001b[0;34m,\u001b[0m \u001b[0;36m130.0\u001b[0m\u001b[0;34m,\u001b[0m \u001b[0;36m3504.0\u001b[0m\u001b[0;34m,\u001b[0m \u001b[0;36m12.0\u001b[0m\u001b[0;34m,\u001b[0m \u001b[0;36m0\u001b[0m\u001b[0;34m,\u001b[0m\u001b[0;36m0\u001b[0m\u001b[0;34m,\u001b[0m\u001b[0;36m0\u001b[0m\u001b[0;34m,\u001b[0m\u001b[0;36m0\u001b[0m\u001b[0;34m,\u001b[0m\u001b[0;36m1\u001b[0m\u001b[0;34m,\u001b[0m \u001b[0;36m1\u001b[0m\u001b[0;34m,\u001b[0m\u001b[0;36m0\u001b[0m\u001b[0;34m,\u001b[0m\u001b[0;36m0\u001b[0m\u001b[0;34m]\u001b[0m\u001b[0;34m]\u001b[0m\u001b[0;34m)\u001b[0m\u001b[0;34m\u001b[0m\u001b[0;34m\u001b[0m\u001b[0m\n\u001b[0m",
            "\u001b[0;32m/usr/local/lib/python3.7/dist-packages/sklearn/preprocessing/_data.py\u001b[0m in \u001b[0;36mtransform\u001b[0;34m(self, X, copy)\u001b[0m\n\u001b[1;32m    804\u001b[0m         \u001b[0;32melse\u001b[0m\u001b[0;34m:\u001b[0m\u001b[0;34m\u001b[0m\u001b[0;34m\u001b[0m\u001b[0m\n\u001b[1;32m    805\u001b[0m             \u001b[0;32mif\u001b[0m \u001b[0mself\u001b[0m\u001b[0;34m.\u001b[0m\u001b[0mwith_mean\u001b[0m\u001b[0;34m:\u001b[0m\u001b[0;34m\u001b[0m\u001b[0;34m\u001b[0m\u001b[0m\n\u001b[0;32m--> 806\u001b[0;31m                 \u001b[0mX\u001b[0m \u001b[0;34m-=\u001b[0m \u001b[0mself\u001b[0m\u001b[0;34m.\u001b[0m\u001b[0mmean_\u001b[0m\u001b[0;34m\u001b[0m\u001b[0;34m\u001b[0m\u001b[0m\n\u001b[0m\u001b[1;32m    807\u001b[0m             \u001b[0;32mif\u001b[0m \u001b[0mself\u001b[0m\u001b[0;34m.\u001b[0m\u001b[0mwith_std\u001b[0m\u001b[0;34m:\u001b[0m\u001b[0;34m\u001b[0m\u001b[0;34m\u001b[0m\u001b[0m\n\u001b[1;32m    808\u001b[0m                 \u001b[0mX\u001b[0m \u001b[0;34m/=\u001b[0m \u001b[0mself\u001b[0m\u001b[0;34m.\u001b[0m\u001b[0mscale_\u001b[0m\u001b[0;34m\u001b[0m\u001b[0;34m\u001b[0m\u001b[0m\n",
            "\u001b[0;31mValueError\u001b[0m: operands could not be broadcast together with shapes (1,12) (4,) (1,12) "
          ]
        }
      ]
    },
    {
      "cell_type": "code",
      "metadata": {
        "id": "hSzQlct8CFQb"
      },
      "source": [
        "x_customer = scaler.transform([[307.0, 130.0, 3504.0, 12.0, 0,0,0,0,1, 1,0,0]])\n",
        "x_customer.shape"
      ],
      "execution_count": null,
      "outputs": []
    },
    {
      "cell_type": "code",
      "metadata": {
        "id": "QmPGr11umsQV"
      },
      "source": [
        "lr.predict(x_customer)"
      ],
      "execution_count": null,
      "outputs": []
    },
    {
      "cell_type": "code",
      "metadata": {
        "id": "d_r930HcmsfX"
      },
      "source": [
        "result = lr.predict(x_customer)\n",
        "result\n",
        "# result 의 return값이 array 이기 때문에 result[0] 으로 출력해야함"
      ],
      "execution_count": null,
      "outputs": []
    },
    {
      "cell_type": "code",
      "metadata": {
        "id": "bbPcKU7zmsuW"
      },
      "source": [
        "result[0]"
      ],
      "execution_count": null,
      "outputs": []
    },
    {
      "cell_type": "code",
      "metadata": {
        "id": "g94YYYUZCxIz"
      },
      "source": [
        "y_pred = model.predict(x_cusotmer)\n",
        "y_pred[0]"
      ],
      "execution_count": null,
      "outputs": []
    },
    {
      "cell_type": "code",
      "metadata": {
        "id": "-g50qxsrLxSn"
      },
      "source": [
        ""
      ],
      "execution_count": null,
      "outputs": []
    },
    {
      "cell_type": "code",
      "metadata": {
        "id": "3HZHDyqPP_dP"
      },
      "source": [
        "import numpy as np\n",
        "import pandas as pd"
      ],
      "execution_count": null,
      "outputs": []
    },
    {
      "cell_type": "code",
      "metadata": {
        "id": "fYBpS3oHWgTY"
      },
      "source": [
        ""
      ],
      "execution_count": 59,
      "outputs": []
    },
    {
      "cell_type": "code",
      "metadata": {
        "id": "Oh6q7l_uLxWX"
      },
      "source": [
        "def onehotcylinder(cylinders):\n",
        "  if cylinders == 3:\n",
        "    cylinder = np.array([1,0,0,0,0])\n",
        "  elif cylinders == 4:\n",
        "    cylinder = np.array([0,1,0,0,0])\n",
        "  elif cylinders == 5:\n",
        "    cylinder = np.array([0,0,1,0,0])\n",
        "  elif cylinders == 6:\n",
        "    cylinder = np.array([0,0,0,1,0])\n",
        "  else : # 8\n",
        "    cylinder = np.array([0,0,0,0,1])\n",
        "  return cylinder"
      ],
      "execution_count": null,
      "outputs": []
    },
    {
      "cell_type": "code",
      "metadata": {
        "id": "ZD3i5KnJLxbc"
      },
      "source": [
        "def onehotorigin(origins):\n",
        "  if origins == 1:\n",
        "    origin = np.array([1,0,0])\n",
        "  elif origins == 2:\n",
        "    origin = np.array([0,1,0])\n",
        "  elif origins == 3:\n",
        "    origin = np.array([0,0,1])\n",
        "  return origin"
      ],
      "execution_count": null,
      "outputs": []
    },
    {
      "cell_type": "code",
      "metadata": {
        "id": "ffO4ZdY0LxgB"
      },
      "source": [
        "# input을 받음\n",
        "displacement = 307.0\n",
        "horsepower = 130.0\n",
        "weight = 3504.0\n",
        "accel = 12.0\n",
        "cylinders = 8\n",
        "origins = 1\n",
        "\n",
        "x_continus = np.array([displacement, horsepower, weight, accel])\n",
        "# x_continus = [[307.0, 130.0, 3504.0, 12.0]]"
      ],
      "execution_count": null,
      "outputs": []
    },
    {
      "cell_type": "code",
      "metadata": {
        "id": "HquoyvxkLxm_"
      },
      "source": [
        "cylinder = onehotcylinder(cylinders)\n",
        "origin = onehotorigin(origins)"
      ],
      "execution_count": null,
      "outputs": []
    },
    {
      "cell_type": "code",
      "metadata": {
        "id": "Y8uAoGHbLxqm"
      },
      "source": [
        "# np.concatenate((a, b), axis=None)\n",
        "result = np.concatenate((x_continus, cylinder, org), axis=None)"
      ],
      "execution_count": null,
      "outputs": []
    },
    {
      "cell_type": "code",
      "metadata": {
        "id": "BFhb2GTbLxuj"
      },
      "source": [
        "result"
      ],
      "execution_count": null,
      "outputs": []
    },
    {
      "cell_type": "code",
      "metadata": {
        "colab": {
          "base_uri": "https://localhost:8080/"
        },
        "id": "MuMePz55Lxyk",
        "outputId": "463c22ee-0759-4af8-ac83-56c5dc491ddf"
      },
      "source": [
        "result.shape"
      ],
      "execution_count": 48,
      "outputs": [
        {
          "output_type": "execute_result",
          "data": {
            "text/plain": [
              "(12,)"
            ]
          },
          "metadata": {
            "tags": []
          },
          "execution_count": 48
        }
      ]
    },
    {
      "cell_type": "code",
      "metadata": {
        "colab": {
          "base_uri": "https://localhost:8080/",
          "height": 164
        },
        "id": "pNV21qVzTrLO",
        "outputId": "679df78d-7388-4f41-d81c-2dfde6b3fe08"
      },
      "source": [
        "result.reshape(1,result.size)"
      ],
      "execution_count": 54,
      "outputs": [
        {
          "output_type": "error",
          "ename": "AttributeError",
          "evalue": "ignored",
          "traceback": [
            "\u001b[0;31m---------------------------------------------------------------------------\u001b[0m",
            "\u001b[0;31mAttributeError\u001b[0m                            Traceback (most recent call last)",
            "\u001b[0;32m<ipython-input-54-d2ba4a39f71a>\u001b[0m in \u001b[0;36m<module>\u001b[0;34m()\u001b[0m\n\u001b[0;32m----> 1\u001b[0;31m \u001b[0mresult\u001b[0m\u001b[0;34m.\u001b[0m\u001b[0mreshape\u001b[0m\u001b[0;34m(\u001b[0m\u001b[0;36m1\u001b[0m\u001b[0;34m,\u001b[0m\u001b[0mresult\u001b[0m\u001b[0;34m.\u001b[0m\u001b[0msize\u001b[0m\u001b[0;34m)\u001b[0m\u001b[0;34m\u001b[0m\u001b[0;34m\u001b[0m\u001b[0m\n\u001b[0m",
            "\u001b[0;31mAttributeError\u001b[0m: 'tuple' object has no attribute 'reshape'"
          ]
        }
      ]
    },
    {
      "cell_type": "code",
      "metadata": {
        "id": "no4tfpPNTt1N"
      },
      "source": [
        ""
      ],
      "execution_count": null,
      "outputs": []
    },
    {
      "cell_type": "code",
      "metadata": {
        "id": "hmW22quETrxX"
      },
      "source": [
        ""
      ],
      "execution_count": null,
      "outputs": []
    },
    {
      "cell_type": "code",
      "metadata": {
        "colab": {
          "base_uri": "https://localhost:8080/",
          "height": 284
        },
        "id": "XlDxDAxdLx2U",
        "outputId": "a4af2c37-a01d-4722-89a3-a2879d00d604"
      },
      "source": [
        "scaler.transform([[307.0, 130.0, 3504.0, 12.0, 0,0,0,0,1, 1,0,0]])"
      ],
      "execution_count": 56,
      "outputs": [
        {
          "output_type": "error",
          "ename": "ValueError",
          "evalue": "ignored",
          "traceback": [
            "\u001b[0;31m---------------------------------------------------------------------------\u001b[0m",
            "\u001b[0;31mValueError\u001b[0m                                Traceback (most recent call last)",
            "\u001b[0;32m<ipython-input-56-23dc0b05ae3d>\u001b[0m in \u001b[0;36m<module>\u001b[0;34m()\u001b[0m\n\u001b[0;32m----> 1\u001b[0;31m \u001b[0mscaler\u001b[0m\u001b[0;34m.\u001b[0m\u001b[0mtransform\u001b[0m\u001b[0;34m(\u001b[0m\u001b[0;34m[\u001b[0m\u001b[0;34m[\u001b[0m\u001b[0;36m307.0\u001b[0m\u001b[0;34m,\u001b[0m \u001b[0;36m130.0\u001b[0m\u001b[0;34m,\u001b[0m \u001b[0;36m3504.0\u001b[0m\u001b[0;34m,\u001b[0m \u001b[0;36m12.0\u001b[0m\u001b[0;34m,\u001b[0m \u001b[0;36m0\u001b[0m\u001b[0;34m,\u001b[0m\u001b[0;36m0\u001b[0m\u001b[0;34m,\u001b[0m\u001b[0;36m0\u001b[0m\u001b[0;34m,\u001b[0m\u001b[0;36m0\u001b[0m\u001b[0;34m,\u001b[0m\u001b[0;36m1\u001b[0m\u001b[0;34m,\u001b[0m \u001b[0;36m1\u001b[0m\u001b[0;34m,\u001b[0m\u001b[0;36m0\u001b[0m\u001b[0;34m,\u001b[0m\u001b[0;36m0\u001b[0m\u001b[0;34m]\u001b[0m\u001b[0;34m]\u001b[0m\u001b[0;34m)\u001b[0m\u001b[0;34m\u001b[0m\u001b[0;34m\u001b[0m\u001b[0m\n\u001b[0m",
            "\u001b[0;32m/usr/local/lib/python3.7/dist-packages/sklearn/preprocessing/_data.py\u001b[0m in \u001b[0;36mtransform\u001b[0;34m(self, X, copy)\u001b[0m\n\u001b[1;32m    804\u001b[0m         \u001b[0;32melse\u001b[0m\u001b[0;34m:\u001b[0m\u001b[0;34m\u001b[0m\u001b[0;34m\u001b[0m\u001b[0m\n\u001b[1;32m    805\u001b[0m             \u001b[0;32mif\u001b[0m \u001b[0mself\u001b[0m\u001b[0;34m.\u001b[0m\u001b[0mwith_mean\u001b[0m\u001b[0;34m:\u001b[0m\u001b[0;34m\u001b[0m\u001b[0;34m\u001b[0m\u001b[0m\n\u001b[0;32m--> 806\u001b[0;31m                 \u001b[0mX\u001b[0m \u001b[0;34m-=\u001b[0m \u001b[0mself\u001b[0m\u001b[0;34m.\u001b[0m\u001b[0mmean_\u001b[0m\u001b[0;34m\u001b[0m\u001b[0;34m\u001b[0m\u001b[0m\n\u001b[0m\u001b[1;32m    807\u001b[0m             \u001b[0;32mif\u001b[0m \u001b[0mself\u001b[0m\u001b[0;34m.\u001b[0m\u001b[0mwith_std\u001b[0m\u001b[0;34m:\u001b[0m\u001b[0;34m\u001b[0m\u001b[0;34m\u001b[0m\u001b[0m\n\u001b[1;32m    808\u001b[0m                 \u001b[0mX\u001b[0m \u001b[0;34m/=\u001b[0m \u001b[0mself\u001b[0m\u001b[0;34m.\u001b[0m\u001b[0mscale_\u001b[0m\u001b[0;34m\u001b[0m\u001b[0;34m\u001b[0m\u001b[0m\n",
            "\u001b[0;31mValueError\u001b[0m: operands could not be broadcast together with shapes (1,12) (4,) (1,12) "
          ]
        }
      ]
    },
    {
      "cell_type": "code",
      "metadata": {
        "id": "UXXaRaVgLx5r"
      },
      "source": [
        ""
      ],
      "execution_count": null,
      "outputs": []
    },
    {
      "cell_type": "code",
      "metadata": {
        "id": "gETqKnF5Lx9j"
      },
      "source": [
        ""
      ],
      "execution_count": null,
      "outputs": []
    },
    {
      "cell_type": "code",
      "metadata": {
        "id": "kHIyVYWnLyBZ"
      },
      "source": [
        ""
      ],
      "execution_count": null,
      "outputs": []
    },
    {
      "cell_type": "code",
      "metadata": {
        "id": "BTgfcbL8LyFZ"
      },
      "source": [
        ""
      ],
      "execution_count": null,
      "outputs": []
    },
    {
      "cell_type": "code",
      "metadata": {
        "id": "0t0uqgQILyLw"
      },
      "source": [
        ""
      ],
      "execution_count": null,
      "outputs": []
    },
    {
      "cell_type": "code",
      "metadata": {
        "id": "n_MBRQS7LyQ8"
      },
      "source": [
        ""
      ],
      "execution_count": null,
      "outputs": []
    },
    {
      "cell_type": "code",
      "metadata": {
        "id": "xu6FhJCnLyVP"
      },
      "source": [
        ""
      ],
      "execution_count": null,
      "outputs": []
    },
    {
      "cell_type": "code",
      "metadata": {
        "id": "XVQFJhH3Lya0"
      },
      "source": [
        ""
      ],
      "execution_count": null,
      "outputs": []
    },
    {
      "cell_type": "code",
      "metadata": {
        "id": "Dbda4wqSLyfr"
      },
      "source": [
        ""
      ],
      "execution_count": null,
      "outputs": []
    },
    {
      "cell_type": "code",
      "metadata": {
        "id": "ZScQrpr2LyjZ"
      },
      "source": [
        ""
      ],
      "execution_count": null,
      "outputs": []
    }
  ]
}