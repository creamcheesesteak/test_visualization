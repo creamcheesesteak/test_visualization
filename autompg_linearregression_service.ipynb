{
  "nbformat": 4,
  "nbformat_minor": 0,
  "metadata": {
    "colab": {
      "name": "autompg_linearregression_service.ipynb",
      "provenance": [],
      "authorship_tag": "ABX9TyPojYT9cH/yEsjOjZZ+m9mv",
      "include_colab_link": true
    },
    "kernelspec": {
      "name": "python3",
      "display_name": "Python 3"
    },
    "language_info": {
      "name": "python"
    }
  },
  "cells": [
    {
      "cell_type": "markdown",
      "metadata": {
        "id": "view-in-github",
        "colab_type": "text"
      },
      "source": [
        "<a href=\"https://colab.research.google.com/github/creamcheesesteak/test_visualization/blob/master/autompg_linearregression_service.ipynb\" target=\"_parent\"><img src=\"https://colab.research.google.com/assets/colab-badge.svg\" alt=\"Open In Colab\"/></a>"
      ]
    },
    {
      "cell_type": "code",
      "metadata": {
        "id": "Kr38yvjDmO_M"
      },
      "source": [
        ""
      ],
      "execution_count": null,
      "outputs": []
    },
    {
      "cell_type": "code",
      "metadata": {
        "id": "1szwTxYBmp9n"
      },
      "source": [
        ""
      ],
      "execution_count": null,
      "outputs": []
    },
    {
      "cell_type": "code",
      "metadata": {
        "colab": {
          "base_uri": "https://localhost:8080/"
        },
        "id": "dY1dAvGPmqOc",
        "outputId": "2c8e3384-fe1e-4bdd-9b84-d895380fa0d2"
      },
      "source": [
        "!ls -l ./autompg_lr.pkl"
      ],
      "execution_count": null,
      "outputs": [
        {
          "output_type": "stream",
          "text": [
            "-rw-r--r-- 1 root root 567 Jul  6 02:17 ./autompg_lr.pkl\n"
          ],
          "name": "stdout"
        }
      ]
    },
    {
      "cell_type": "markdown",
      "metadata": {
        "id": "eNt47XfVnflL"
      },
      "source": [
        "# load pickle with linear regression"
      ]
    },
    {
      "cell_type": "code",
      "metadata": {
        "id": "1G1wUJN4mqeE"
      },
      "source": [
        "import pickle"
      ],
      "execution_count": null,
      "outputs": []
    },
    {
      "cell_type": "code",
      "metadata": {
        "colab": {
          "base_uri": "https://localhost:8080/"
        },
        "id": "rch0Q-Bumqvl",
        "outputId": "a85840f2-c9be-49a3-d245-ba2d77a87862"
      },
      "source": [
        "pickle.load(open('./autompg_lr.pkl', 'rb'))\n",
        "# 바이너리 파일은 rb 옵션을 넣어줘야함"
      ],
      "execution_count": null,
      "outputs": [
        {
          "output_type": "execute_result",
          "data": {
            "text/plain": [
              "LinearRegression(copy_X=True, fit_intercept=True, n_jobs=None, normalize=False)"
            ]
          },
          "metadata": {
            "tags": []
          },
          "execution_count": 3
        }
      ]
    },
    {
      "cell_type": "code",
      "metadata": {
        "colab": {
          "base_uri": "https://localhost:8080/"
        },
        "id": "Q_DDf_oGmrA9",
        "outputId": "fa78528c-58b9-4b7f-9a18-4d36c367e2c0"
      },
      "source": [
        "lr = pickle.load(open('./autompg_lr.pkl', 'rb'))\n",
        "type(lr)"
      ],
      "execution_count": null,
      "outputs": [
        {
          "output_type": "execute_result",
          "data": {
            "text/plain": [
              "sklearn.linear_model._base.LinearRegression"
            ]
          },
          "metadata": {
            "tags": []
          },
          "execution_count": 5
        }
      ]
    },
    {
      "cell_type": "code",
      "metadata": {
        "id": "1pJTSVapmrTH"
      },
      "source": [
        ""
      ],
      "execution_count": null,
      "outputs": []
    },
    {
      "cell_type": "code",
      "metadata": {
        "colab": {
          "base_uri": "https://localhost:8080/"
        },
        "id": "WM72uOA6mrqv",
        "outputId": "f6a49547-e543-41cd-d0f7-938dd69a02d7"
      },
      "source": [
        "scaler = pickle.load(open('./autompg_standardscaler.pkl', 'rb'))\n",
        "type(scaler)"
      ],
      "execution_count": null,
      "outputs": [
        {
          "output_type": "execute_result",
          "data": {
            "text/plain": [
              "sklearn.preprocessing._data.StandardScaler"
            ]
          },
          "metadata": {
            "tags": []
          },
          "execution_count": 6
        }
      ]
    },
    {
      "cell_type": "markdown",
      "metadata": {
        "id": "XujVRSlN_5sK"
      },
      "source": [
        "# predict with linear regression"
      ]
    },
    {
      "cell_type": "code",
      "metadata": {
        "id": "9aM7Fa2Lmr-z"
      },
      "source": [
        "# input을 받음\n",
        "displacement = 307.0\n",
        "horsepower = 130.0\n",
        "weight = 3504.0\n",
        "accel = 12.0\n",
        "x_customer = [[displacement, horsepower, weight, accel]]\n",
        "# [[307.0, 130.0, 3504.0, 12.0]] -> predit에게 보냄 -> 결과 값을 output"
      ],
      "execution_count": 7,
      "outputs": []
    },
    {
      "cell_type": "code",
      "metadata": {
        "colab": {
          "base_uri": "https://localhost:8080/"
        },
        "id": "aemBnhT3CAZ9",
        "outputId": "b7c39d0e-05df-4af4-b6e7-ed380e4ecb71"
      },
      "source": [
        "scaler.transform(x_customer)"
      ],
      "execution_count": 8,
      "outputs": [
        {
          "output_type": "execute_result",
          "data": {
            "text/plain": [
              "array([[ 1.0906037 ,  0.67513301,  0.63086987, -1.29549834]])"
            ]
          },
          "metadata": {
            "tags": []
          },
          "execution_count": 8
        }
      ]
    },
    {
      "cell_type": "code",
      "metadata": {
        "id": "hSzQlct8CFQb"
      },
      "source": [
        "x_customer = scaler.transform(x_customer)"
      ],
      "execution_count": 9,
      "outputs": []
    },
    {
      "cell_type": "code",
      "metadata": {
        "id": "QmPGr11umsQV",
        "colab": {
          "base_uri": "https://localhost:8080/"
        },
        "outputId": "8457c235-b538-4d8d-f037-72cbb2686c56"
      },
      "source": [
        "lr.predict(x_customer)"
      ],
      "execution_count": 10,
      "outputs": [
        {
          "output_type": "execute_result",
          "data": {
            "text/plain": [
              "array([18.99743588])"
            ]
          },
          "metadata": {
            "tags": []
          },
          "execution_count": 10
        }
      ]
    },
    {
      "cell_type": "code",
      "metadata": {
        "id": "d_r930HcmsfX",
        "colab": {
          "base_uri": "https://localhost:8080/"
        },
        "outputId": "26271dab-dc12-40dc-84d1-e0bddb16e0ce"
      },
      "source": [
        "result = lr.predict(x_customer)\n",
        "result\n",
        "# result 의 return값이 array 이기 때문에 result[0] 으로 출력해야함"
      ],
      "execution_count": 13,
      "outputs": [
        {
          "output_type": "execute_result",
          "data": {
            "text/plain": [
              "array([18.99743588])"
            ]
          },
          "metadata": {
            "tags": []
          },
          "execution_count": 13
        }
      ]
    },
    {
      "cell_type": "code",
      "metadata": {
        "id": "bbPcKU7zmsuW",
        "colab": {
          "base_uri": "https://localhost:8080/"
        },
        "outputId": "51a1cf28-fa45-4445-b51c-40f5c2c2780a"
      },
      "source": [
        "result[0]"
      ],
      "execution_count": 14,
      "outputs": [
        {
          "output_type": "execute_result",
          "data": {
            "text/plain": [
              "18.997435878630824"
            ]
          },
          "metadata": {
            "tags": []
          },
          "execution_count": 14
        }
      ]
    },
    {
      "cell_type": "code",
      "metadata": {
        "id": "g94YYYUZCxIz"
      },
      "source": [
        ""
      ],
      "execution_count": null,
      "outputs": []
    }
  ]
}